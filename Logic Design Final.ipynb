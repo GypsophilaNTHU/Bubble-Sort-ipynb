{
 "cells": [
  {
   "cell_type": "markdown",
   "metadata": {},
   "source": [
    "# Bubble Sort"
   ]
  },
  {
   "cell_type": "code",
   "execution_count": 8,
   "metadata": {
    "collapsed": true
   },
   "outputs": [],
   "source": [
    "# Bubble Sort\n",
    "def bubbleSort(myList):\n",
    "    n = len(myList) # list elements are indexed from 0 to n-1\n",
    "    while True:\n",
    "        swapped = False\n",
    "        for i in range(1, n):  # i iterates from 1 to n-1\n",
    "            if myList[i-1] > myList[i]:\n",
    "                myList[i-1], myList[i] = myList[i], myList[i-1]\n",
    "                swapped = True\n",
    "        n = n - 1\n",
    "        if not swapped:\n",
    "            break\n",
    "    return"
   ]
  },
  {
   "cell_type": "code",
   "execution_count": 2,
   "metadata": {
    "collapsed": false
   },
   "outputs": [
    {
     "data": {
      "text/plain": [
       "[1, 1, 1, 3, 5, 5, 7]"
      ]
     },
     "execution_count": 2,
     "metadata": {},
     "output_type": "execute_result"
    }
   ],
   "source": [
    "myList = [5, 7, 1, 5, 1, 3, 1]\n",
    "bubbleSort(myList)\n",
    "myList"
   ]
  },
  {
   "cell_type": "code",
   "execution_count": 6,
   "metadata": {
    "collapsed": true
   },
   "outputs": [],
   "source": [
    "# Bubble Sort with printout for debugging\n",
    "def bubbleSort_Debug(myList):\n",
    "    n = len(myList)\n",
    "    print (myList, \"Input List\")\n",
    "    while True:\n",
    "        swapped = False\n",
    "        print (\"\\nn = \", n)\n",
    "        for i in range(1, n):  # i from 1 to n-1\n",
    "            if myList[i-1] > myList[i]:\n",
    "                myList[i-1], myList[i] = myList[i], myList[i-1]\n",
    "                swapped = True\n",
    "                print (\"     Swap item {} and item {}\".format(i-1, i))\n",
    "            print(myList)\n",
    "        n = n - 1\n",
    "        if not swapped:\n",
    "            break\n",
    "    print (myList, \"Sorted list\")\n",
    "    return"
   ]
  },
  {
   "cell_type": "code",
   "execution_count": 7,
   "metadata": {
    "collapsed": false
   },
   "outputs": [
    {
     "name": "stdout",
     "output_type": "stream",
     "text": [
      "[5, 7, 1, 5, 1, 3, 1] Input List\n",
      "\n",
      "n =  7\n",
      "[5, 7, 1, 5, 1, 3, 1]\n",
      "     Swap item 1 and item 2\n",
      "[5, 1, 7, 5, 1, 3, 1]\n",
      "     Swap item 2 and item 3\n",
      "[5, 1, 5, 7, 1, 3, 1]\n",
      "     Swap item 3 and item 4\n",
      "[5, 1, 5, 1, 7, 3, 1]\n",
      "     Swap item 4 and item 5\n",
      "[5, 1, 5, 1, 3, 7, 1]\n",
      "     Swap item 5 and item 6\n",
      "[5, 1, 5, 1, 3, 1, 7]\n",
      "\n",
      "n =  6\n",
      "     Swap item 0 and item 1\n",
      "[1, 5, 5, 1, 3, 1, 7]\n",
      "[1, 5, 5, 1, 3, 1, 7]\n",
      "     Swap item 2 and item 3\n",
      "[1, 5, 1, 5, 3, 1, 7]\n",
      "     Swap item 3 and item 4\n",
      "[1, 5, 1, 3, 5, 1, 7]\n",
      "     Swap item 4 and item 5\n",
      "[1, 5, 1, 3, 1, 5, 7]\n",
      "\n",
      "n =  5\n",
      "[1, 5, 1, 3, 1, 5, 7]\n",
      "     Swap item 1 and item 2\n",
      "[1, 1, 5, 3, 1, 5, 7]\n",
      "     Swap item 2 and item 3\n",
      "[1, 1, 3, 5, 1, 5, 7]\n",
      "     Swap item 3 and item 4\n",
      "[1, 1, 3, 1, 5, 5, 7]\n",
      "\n",
      "n =  4\n",
      "[1, 1, 3, 1, 5, 5, 7]\n",
      "[1, 1, 3, 1, 5, 5, 7]\n",
      "     Swap item 2 and item 3\n",
      "[1, 1, 1, 3, 5, 5, 7]\n",
      "\n",
      "n =  3\n",
      "[1, 1, 1, 3, 5, 5, 7]\n",
      "[1, 1, 1, 3, 5, 5, 7]\n",
      "[1, 1, 1, 3, 5, 5, 7] Sorted list\n"
     ]
    }
   ],
   "source": [
    "myList = [5, 7, 1, 5, 1, 3, 1]\n",
    "bubbleSort_Debug(myList)"
   ]
  },
  {
   "cell_type": "code",
   "execution_count": null,
   "metadata": {
    "collapsed": true
   },
   "outputs": [],
   "source": []
  }
 ],
 "metadata": {
  "kernelspec": {
   "display_name": "Python 3",
   "language": "python",
   "name": "python3"
  },
  "language_info": {
   "codemirror_mode": {
    "name": "ipython",
    "version": 3
   },
   "file_extension": ".py",
   "mimetype": "text/x-python",
   "name": "python",
   "nbconvert_exporter": "python",
   "pygments_lexer": "ipython3",
   "version": "3.5.0"
  }
 },
 "nbformat": 4,
 "nbformat_minor": 0
}
